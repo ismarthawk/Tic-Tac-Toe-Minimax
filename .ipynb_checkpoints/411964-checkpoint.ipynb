{
 "cells": [
  {
   "cell_type": "code",
   "execution_count": 1,
   "metadata": {},
   "outputs": [],
   "source": [
    "board = [\n",
    "    [' ',' ',' '],\n",
    "    [' ',' ',' '],\n",
    "    [' ',' ',' ']\n",
    "]"
   ]
  },
  {
   "cell_type": "code",
   "execution_count": 2,
   "metadata": {},
   "outputs": [],
   "source": [
    "## To represent the cofiuration of the board.\n",
    "def showBoard(board) :\n",
    "    for i in range(3) :\n",
    "        for j in range(3) :\n",
    "            print(board[i][j], end=' |')\n",
    "        print()"
   ]
  },
  {
   "cell_type": "code",
   "execution_count": 3,
   "metadata": {},
   "outputs": [],
   "source": [
    "# to Check if the board is Leaf\n",
    "def isLeaf(board) :\n",
    "    for i in range(3) :\n",
    "        if board[i][0] == board[i][1] == board[i][2] == 'X' or board[i][0] == board[i][1] == board[i][2] == 'O' :\n",
    "            return True\n",
    "        if board[0][i] == board[1][i] == board[2][i] == 'X' or board[0][i] == board[1][i] == board[2][i] == 'O' :\n",
    "            return True\n",
    "    if board[0][0] == board[1][1] == board[2][2] == 'X' or board[0][2] == board[1][1] == board[2][0] == 'X' :\n",
    "        return True\n",
    "    if board[0][0] == board[1][1] == board[2][2] == 'O' or board[0][2] == board[1][1] == board[2][0] == 'O' :\n",
    "        return True\n",
    "    return False\n"
   ]
  },
  {
   "cell_type": "code",
   "execution_count": 4,
   "metadata": {},
   "outputs": [],
   "source": [
    "def getScore(board) :\n",
    "    symbols = ['X', 'O']\n",
    "    for symbol in symbols :\n",
    "        for i in range(3):\n",
    "            if board[i][0] == board[i][1] == board[i][2] == symbol :\n",
    "                if symbol == 'X' : return 1\n",
    "                if symbol == 'O' : return -1\n",
    "            if board[0][i] == board[1][i] == board[2][i] == symbol:\n",
    "                if symbol == 'X' : return 1\n",
    "                else : return -1\n",
    "        if board[0][0] == board[1][1] == board[2][2] == symbol or board[0][2] == board[1][1] == board[2][0] == symbol:\n",
    "            if symbol == 'X' : return 1\n",
    "            else : return -1\n",
    "    return 0\n"
   ]
  },
  {
   "cell_type": "code",
   "execution_count": 5,
   "metadata": {},
   "outputs": [],
   "source": [
    "def getChild(board,player) :\n",
    "    children = []\n",
    "    for i in range(3) :\n",
    "        for j in range(3) :\n",
    "            if board[i][j] == ' ' :\n",
    "                # print(board)\n",
    "                child = [x[:] for x in board]\n",
    "                # print(child)\n",
    "                child[i][j] = player\n",
    "                children.append(child)\n",
    "    return children"
   ]
  },
  {
   "cell_type": "code",
   "execution_count": 6,
   "metadata": {},
   "outputs": [],
   "source": [
    "# computer player fills X\n",
    "# Human- player fills O"
   ]
  },
  {
   "cell_type": "code",
   "execution_count": 7,
   "metadata": {},
   "outputs": [
    {
     "ename": "SyntaxError",
     "evalue": "unexpected EOF while parsing (<ipython-input-7-99bf0921e940>, line 2)",
     "output_type": "error",
     "traceback": [
      "\u001b[1;36m  File \u001b[1;32m\"<ipython-input-7-99bf0921e940>\"\u001b[1;36m, line \u001b[1;32m2\u001b[0m\n\u001b[1;33m    \u001b[0m\n\u001b[1;37m    ^\u001b[0m\n\u001b[1;31mSyntaxError\u001b[0m\u001b[1;31m:\u001b[0m unexpected EOF while parsing\n"
     ]
    }
   ],
   "source": [
    "def minimax(board,player) :\n",
    "    \n"
   ]
  }
 ],
 "metadata": {
  "interpreter": {
   "hash": "145d059134cee9d6a60a7b3cd21cdf8de6baa084bfcd643513fe1075f4fa4253"
  },
  "kernelspec": {
   "display_name": "Python 3",
   "language": "python",
   "name": "python3"
  },
  "language_info": {
   "codemirror_mode": {
    "name": "ipython",
    "version": 3
   },
   "file_extension": ".py",
   "mimetype": "text/x-python",
   "name": "python",
   "nbconvert_exporter": "python",
   "pygments_lexer": "ipython3",
   "version": "3.8.5"
  }
 },
 "nbformat": 4,
 "nbformat_minor": 2
}
