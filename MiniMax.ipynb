{
 "cells": [
  {
   "cell_type": "code",
   "execution_count": 1,
   "metadata": {},
   "outputs": [],
   "source": [
    "# Computer plays X\n",
    "# Human plays O\n",
    "# Computer plays first."
   ]
  },
  {
   "cell_type": "code",
   "execution_count": 2,
   "metadata": {},
   "outputs": [],
   "source": [
    "## Setting initial configuration of the board.\n",
    "# count = 0 \n",
    "board = [\n",
    "    [' ',' ',' '],\n",
    "    [' ',' ',' '],\n",
    "    [' ',' ',' '],\n",
    "]"
   ]
  },
  {
   "cell_type": "code",
   "execution_count": 3,
   "metadata": {},
   "outputs": [],
   "source": [
    "def whoseTurn(board) :\n",
    "    c = 0 \n",
    "    for row in board :\n",
    "        for d in row :\n",
    "            if d == 'X' : c += 1\n",
    "            if d == 'O': c -= 1\n",
    "    if c == 0 : return 'X'\n",
    "    return 'O'"
   ]
  },
  {
   "cell_type": "code",
   "execution_count": 4,
   "metadata": {},
   "outputs": [],
   "source": [
    "def getChildren(board) :\n",
    "    children = []\n",
    "    for i in range(3) :\n",
    "        for j in range(3) :\n",
    "            if board[i][j] == ' ' :\n",
    "                child = [row[:] for row in board]\n",
    "                child[i][j] = whoseTurn(board)\n",
    "                children.append(child)\n",
    "    return children"
   ]
  },
  {
   "cell_type": "code",
   "execution_count": 5,
   "metadata": {},
   "outputs": [],
   "source": [
    "def getWinner(board) :\n",
    "    for i in range(3) :\n",
    "        if board[i][0] == board[i][1] == board[i][2] != ' ' : return board[i][0]\n",
    "        if board[0][i] == board[1][i] == board[2][i] != ' ' : return board[0][i]\n",
    "    if board[0][0] == board[1][1] == board[2][2] != ' ' : return board[0][0]\n",
    "    if board[0][2] == board[1][1] == board[2][0] != ' ' : return board[0][2]\n",
    "    return None"
   ]
  },
  {
   "cell_type": "code",
   "execution_count": 6,
   "metadata": {},
   "outputs": [],
   "source": [
    "def isTerminal(board) :\n",
    "    return getWinner(board) != None or len(getChildren(board)) == 0"
   ]
  },
  {
   "cell_type": "code",
   "execution_count": 7,
   "metadata": {},
   "outputs": [],
   "source": [
    "def getValue(board) :\n",
    "    winner = getWinner(board)\n",
    "    if winner == 'X' : return 1\n",
    "    if winner == 'O' : return -1\n",
    "    return 0"
   ]
  },
  {
   "cell_type": "code",
   "execution_count": 8,
   "metadata": {},
   "outputs": [],
   "source": [
    "def getMaxValue(board) :\n",
    "    global count\n",
    "    if isTerminal(board) : return getValue(board)\n",
    "    v = float('-inf')\n",
    "    for child in getChildren(board) :\n",
    "#         count += 1\n",
    "        v = max(v, getMinValue(child))\n",
    "    return v\n",
    "\n",
    "def getMinValue(board) :\n",
    "    if isTerminal(board) : return getValue(board)\n",
    "    v = float('inf')\n",
    "    for child in getChildren(board) :\n",
    "#         count += 1\n",
    "        v = min(v, getMaxValue(child))\n",
    "    return v"
   ]
  },
  {
   "cell_type": "code",
   "execution_count": 9,
   "metadata": {},
   "outputs": [],
   "source": [
    "def minimax(board) :\n",
    "    global count\n",
    "    player = whoseTurn(board)\n",
    "    if player == 'X' :\n",
    "        best = float('-inf')\n",
    "        for child in getChildren(board) :\n",
    "#             count += 1\n",
    "            k = getMinValue(child)\n",
    "            if k > best :\n",
    "                best = k\n",
    "                bestBoard = child\n",
    "        return bestBoard\n",
    "    else :\n",
    "        best = float('inf')\n",
    "        count += 1\n",
    "        for child in getChildren(board) :\n",
    "            k = getMaxValue(board) \n",
    "            if k < best :\n",
    "                best = k\n",
    "                bestBoard = child\n",
    "        return bestBoard"
   ]
  },
  {
   "cell_type": "code",
   "execution_count": 10,
   "metadata": {},
   "outputs": [],
   "source": [
    "def showBoard(board) :\n",
    "    for row in board :\n",
    "        for d in row :\n",
    "            print(d, end = ' |')\n",
    "        print(\" \")"
   ]
  },
  {
   "cell_type": "code",
   "execution_count": 11,
   "metadata": {},
   "outputs": [],
   "source": [
    "def complete(board) :\n",
    "    for i in range(3) :\n",
    "        for j in range(3) :\n",
    "            if board[i][j] == ' ' : return False\n",
    "    return True"
   ]
  },
  {
   "cell_type": "code",
   "execution_count": 12,
   "metadata": {},
   "outputs": [
    {
     "name": "stdout",
     "output_type": "stream",
     "text": [
      "  |  |  | \n",
      "  |  |  | \n",
      "  |  |  | \n",
      "Computer's turn\n",
      "X |  |  | \n",
      "  |  |  | \n",
      "  |  |  | \n",
      "Your turn\n",
      "Enter row: 1\n",
      "Enter col: 1\n",
      "X |  |  | \n",
      "  |O |  | \n",
      "  |  |  | \n",
      "Computer's turn\n",
      "X |X |  | \n",
      "  |O |  | \n",
      "  |  |  | \n",
      "Your turn\n",
      "Enter row: 0\n",
      "Enter col: 2\n",
      "X |X |O | \n",
      "  |O |  | \n",
      "  |  |  | \n",
      "Computer's turn\n",
      "X |X |O | \n",
      "  |O |  | \n",
      "X |  |  | \n",
      "Your turn\n",
      "Enter row: 1\n",
      "Enter col: 0\n",
      "X |X |O | \n",
      "O |O |  | \n",
      "X |  |  | \n",
      "Computer's turn\n",
      "X |X |O | \n",
      "O |O |X | \n",
      "X |  |  | \n",
      "Your turn\n",
      "Enter row: 2\n",
      "Enter col: 2\n",
      "X |X |O | \n",
      "O |O |X | \n",
      "X |  |O | \n",
      "Computer's turn\n",
      "Game over\n",
      "X |X |O | \n",
      "O |O |X | \n",
      "X |X |O | \n",
      "The Winner is  None\n"
     ]
    }
   ],
   "source": [
    "while getWinner(board) == None  and not complete(board):\n",
    "    showBoard(board)\n",
    "    if whoseTurn(board) == 'X' :\n",
    "        print('Computer\\'s turn')\n",
    "        board = minimax(board)\n",
    "        count = 0 \n",
    "    else :\n",
    "        print('Your turn')\n",
    "        row = int(input('Enter row: '))\n",
    "        col = int(input('Enter col: '))\n",
    "        board[row][col] = 'O'\n",
    "print('Game over')       \n",
    "showBoard(board)\n",
    "\n",
    "print('The Winner is ',getWinner(board))"
   ]
  },
  {
   "cell_type": "code",
   "execution_count": 13,
   "metadata": {},
   "outputs": [],
   "source": [
    "def alpha_beta(board,alpha,beta) :\n",
    "    global count\n",
    "    player = whoseTurn(board)\n",
    "    if player == 'X' :\n",
    "        best = float('-inf')\n",
    "        for child in getChildren(board) :\n",
    "#             count += 1\n",
    "            k = getMinValue(child,alpha,beta)\n",
    "            if k > best :\n",
    "                best = k\n",
    "                bestBoard = child\n",
    "            if best > alpha : alpha = best\n",
    "            if beta <= alpha : break\n",
    "        return bestBoard\n",
    "    else :\n",
    "        best = float('inf')\n",
    "        for child in getChildren(board) :\n",
    "#             count += 1\n",
    "            k = getMaxValue(child,alpha,beta)\n",
    "            if k < best :\n",
    "                best = k\n",
    "                bestBoard = child\n",
    "            if best < beta : beta = best\n",
    "            if beta <= alpha : break\n",
    "        "
   ]
  },
  {
   "cell_type": "code",
   "execution_count": 14,
   "metadata": {},
   "outputs": [],
   "source": [
    "def getMaxValue(board,alpha,beta) :\n",
    "    if isTerminal(board) : return getValue(board)\n",
    "    v = float('-inf')\n",
    "    for child in getChildren(board) :\n",
    "        v = max(v, getMinValue(child,alpha,beta))\n",
    "        if v > beta : return v\n",
    "        alpha = max(alpha,v)\n",
    "    return v\n",
    "\n",
    "def getMinValue(board,alpha,beta) :\n",
    "    if isTerminal(board) : return getValue(board)\n",
    "    v = float('inf')\n",
    "    for child in getChildren(board) :\n",
    "        v = min(v, getMaxValue(child,alpha,beta))\n",
    "        if v < alpha : return v\n",
    "        beta = min(beta,v)\n",
    "    return v"
   ]
  },
  {
   "cell_type": "code",
   "execution_count": 15,
   "metadata": {},
   "outputs": [],
   "source": [
    "board = [\n",
    "    [' ',' ',' '],\n",
    "    [' ',' ',' '],\n",
    "    [' ',' ',' '],\n",
    "]"
   ]
  },
  {
   "cell_type": "code",
   "execution_count": 16,
   "metadata": {},
   "outputs": [
    {
     "name": "stdout",
     "output_type": "stream",
     "text": [
      "  |  |  | \n",
      "  |  |  | \n",
      "  |  |  | \n",
      "Computer's turn\n",
      "X |  |  | \n",
      "  |  |  | \n",
      "  |  |  | \n",
      "Your turn\n",
      "Enter row: 0\n",
      "Enter col: 2\n",
      "X |  |O | \n",
      "  |  |  | \n",
      "  |  |  | \n",
      "Computer's turn\n",
      "X |  |O | \n",
      "X |  |  | \n",
      "  |  |  | \n",
      "Your turn\n",
      "Enter row: 2\n",
      "Enter col: 0\n",
      "X |  |O | \n",
      "X |  |  | \n",
      "O |  |  | \n",
      "Computer's turn\n",
      "X |  |O | \n",
      "X |X |  | \n",
      "O |  |  | \n",
      "Your turn\n",
      "Enter row: 2\n",
      "Enter col: 2\n",
      "X |  |O | \n",
      "X |X |  | \n",
      "O |  |O | \n",
      "Computer's turn\n",
      "Game over\n",
      "X |  |O | \n",
      "X |X |X | \n",
      "O |  |O | \n",
      "The Winner is  X\n"
     ]
    }
   ],
   "source": [
    "while getWinner(board) == None and not complete(board):\n",
    "    showBoard(board)\n",
    "    if whoseTurn(board) == 'X':\n",
    "        print('Computer\\'s turn')\n",
    "        board = alpha_beta(board,-float('inf'),float('inf'))\n",
    "    else:\n",
    "        print('Your turn')\n",
    "        row = int(input('Enter row: '))\n",
    "        col = int(input('Enter col: '))\n",
    "        board[row][col] = 'O'\n",
    "print('Game over')\n",
    "showBoard(board)\n",
    "\n",
    "print('The Winner is ', getWinner(board))\n"
   ]
  },
  {
   "cell_type": "code",
   "execution_count": null,
   "metadata": {},
   "outputs": [],
   "source": []
  }
 ],
 "metadata": {
  "interpreter": {
   "hash": "8a5fe66eb3e1d626db6d45fd97952dadf3bf1d01cb864066733d695210525958"
  },
  "kernelspec": {
   "display_name": "Python 3",
   "language": "python",
   "name": "python3"
  },
  "language_info": {
   "codemirror_mode": {
    "name": "ipython",
    "version": 3
   },
   "file_extension": ".py",
   "mimetype": "text/x-python",
   "name": "python",
   "nbconvert_exporter": "python",
   "pygments_lexer": "ipython3",
   "version": "3.8.5"
  }
 },
 "nbformat": 4,
 "nbformat_minor": 2
}
